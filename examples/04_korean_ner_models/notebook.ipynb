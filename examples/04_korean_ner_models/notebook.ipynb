{
 "cells": [
  {
   "cell_type": "markdown",
   "id": "3ebb6181-67e7-471b-820b-f90dadc87cf9",
   "metadata": {},
   "source": [
    "# Pre-trained NER models for Korean corpus"
   ]
  },
  {
   "cell_type": "markdown",
   "id": "aff2c2bd-7a11-4863-be1b-1be17e5d14de",
   "metadata": {},
   "source": [
    "## monologg/KoELECTRA"
   ]
  },
  {
   "cell_type": "code",
   "execution_count": null,
   "id": "d65b6195-f7a8-4396-a087-0c8768f89c6e",
   "metadata": {},
   "outputs": [],
   "source": [
    "!git clone https://github.com/monologg/KoELECTRA-Pipeline KoelectraPipeline"
   ]
  },
  {
   "cell_type": "code",
   "execution_count": 1,
   "id": "6e62e9d5-31ea-469e-b043-85ef20fdfd24",
   "metadata": {},
   "outputs": [],
   "source": [
    "import torch\n",
    "from transformers import ElectraTokenizer, ElectraForTokenClassification\n",
    "from KoelectraPipeline.ner_pipeline import NerPipeline\n",
    "from pprint import pprint\n",
    "\n",
    "device = torch.device('cuda:0' if torch.cuda.is_available() else 'cpu')\n",
    "device_no = 0 if torch.cuda.is_available() else -1\n",
    "query = \"현대자동차가 사우디아라비아에 반조립(CKD) 공장 설립을 검토한다. 현대차(005380)의 첫 중동 생산기지로 사우디가 확정되면 성장 가능성이 큰 현지 시장 공략에도 속도가 붙을 것으로 전망된다.\"\n",
    "queries = [\n",
    "    '\"반토막\" 마이크론 주가…아거스 \"매수할 타이밍 아니다\"',\n",
    "    '애플 아이폰14 프로 생산 속도 회복 중…\"생산 능력 70%로 회복\"',\n",
    "    '모건스탠리 \"테슬라, EV 시장서 격차 벌릴 것\"…테슬라 주가 8% 이상 상승 반전',\n",
    "    '뉴욕증시 상승출발…테슬라 등 기술주들 일제 반등',\n",
    "    '기술분석가들 \"애플, 130달러 깨져 추가 하락 가능성 높아\"',\n",
    "    'CFRA, 넷플릭스 매도→매수로 두단계 상향',\n",
    "    'GE 헬스케어, 1월 4일부터 별도 주식으로 거래',\n",
    "    '올해 美증시 \"인플레이션, 기업실적·파월 발언이 폭탄\"',\n",
    "    '머스크 \"연말까지 테슬라 배송 도와달라\" 직원에 이메일',\n",
    "    '씨티그룹 \"올해 유망 바이오주 TOP3...73% 상승 여력”',\n",
    "    'TSMC, 대만남부공장에서 3나노칩 양산 시작',\n",
    "    '디즈니, 2014년 10월 이후 주가 가장 낮아',\n",
    "    '전문가도 \"미쳤다\"…17세기 가짜 \"모나리자\" 39억원에 낙찰',\n",
    "    '삼성 ‘더 프레임’으로 모나리자 감상',\n",
    "    '모나리자, ‘알쏭달쏭 캐치! 티니핑’ 캐릭터 콜라보 미용티슈·물티슈 선봬',\n",
    "    '한편, 모나리자는 MSS 홀딩스(대표 정회훈)를 지주회사로 두고 있는 생활위생 전문 그룹인 MSS 그룹산하의 회사로, 각종 티슈 제품과 물티슈, 마스크, 유아용 및 성인용 기저귀 등 다양한 위생 용품을 출시하며 위생 용품 기업으로 입지를 강화하고 있다. ',\n",
    "]"
   ]
  },
  {
   "cell_type": "markdown",
   "id": "b64484bc-e714-4f86-87dc-8bf1c56a1524",
   "metadata": {},
   "source": [
    "### [monologg/koelectra-small-finetuned-naver-ner](https://huggingface.co/monologg/koelectra-small-finetuned-naver-ner)"
   ]
  },
  {
   "cell_type": "code",
   "execution_count": 2,
   "id": "eaf4c779-6955-4f5f-85c3-82fe3a9f2ad9",
   "metadata": {},
   "outputs": [],
   "source": [
    "tokenizer = ElectraTokenizer.from_pretrained(\"monologg/koelectra-small-finetuned-naver-ner\")\n",
    "model = ElectraForTokenClassification.from_pretrained(\"monologg/koelectra-small-finetuned-naver-ner\").to(device)"
   ]
  },
  {
   "cell_type": "markdown",
   "id": "d48fafc9-dc48-4770-a5a7-db24be5b0176",
   "metadata": {},
   "source": [
    "- It seems `NerPipeline` is not available in `transformers` latest version"
   ]
  },
  {
   "cell_type": "code",
   "execution_count": 3,
   "id": "a1beb7cf-ae49-4779-9038-e7ab94c67d8c",
   "metadata": {},
   "outputs": [],
   "source": [
    "ner = NerPipeline(\n",
    "    model=model,\n",
    "    tokenizer=tokenizer,\n",
    "    ignore_labels=[],\n",
    "    ignore_special_tokens=True,\n",
    "    device=device_no\n",
    ")"
   ]
  },
  {
   "cell_type": "markdown",
   "id": "484f2d64-319f-4551-badd-33f232c96b27",
   "metadata": {},
   "source": [
    "- Showing how the NER pipeline works"
   ]
  },
  {
   "cell_type": "code",
   "execution_count": 4,
   "id": "196586c4-a1c4-46a2-a5ec-3db2982ce85d",
   "metadata": {},
   "outputs": [
    {
     "name": "stderr",
     "output_type": "stream",
     "text": [
      "/opt/conda/lib/python3.7/site-packages/transformers/tokenization_utils_base.py:1324: FutureWarning: The `max_len` attribute has been deprecated and will be removed in a future version, use `model_max_length` instead.\n",
      "  FutureWarning,\n"
     ]
    },
    {
     "name": "stdout",
     "output_type": "stream",
     "text": [
      "[{'entity': 'ORG-B', 'score': 0.9996711611747742, 'word': '현대자동차가'},\n",
      " {'entity': 'LOC-B', 'score': 0.9993993639945984, 'word': '사우디아라비아에'},\n",
      " {'entity': 'TRM-B', 'score': 0.9200928807258606, 'word': '반조립(CKD)'},\n",
      " {'entity': 'O', 'score': 0.9994731545448303, 'word': '공장'},\n",
      " {'entity': 'O', 'score': 0.99997478723526, 'word': '설립을'},\n",
      " {'entity': 'O', 'score': 0.9999741911888123, 'word': '검토한다.'},\n",
      " {'entity': 'ORG-B', 'score': 0.999255895614624, 'word': '현대차(005380)의'},\n",
      " {'entity': 'NUM-B', 'score': 0.9716644287109375, 'word': '첫'},\n",
      " {'entity': 'LOC-B', 'score': 0.6237317323684692, 'word': '중동'},\n",
      " {'entity': 'O', 'score': 0.9186286330223083, 'word': '생산기지로'},\n",
      " {'entity': 'LOC-B', 'score': 0.9993852972984314, 'word': '사우디가'},\n",
      " {'entity': 'O', 'score': 0.9999492764472961, 'word': '확정되면'},\n",
      " {'entity': 'O', 'score': 0.9999668598175049, 'word': '성장'},\n",
      " {'entity': 'O', 'score': 0.9999701976776123, 'word': '가능성이'},\n",
      " {'entity': 'O', 'score': 0.9999551773071289, 'word': '큰'},\n",
      " {'entity': 'O', 'score': 0.9998905062675476, 'word': '현지'},\n",
      " {'entity': 'O', 'score': 0.9999563694000244, 'word': '시장'},\n",
      " {'entity': 'O', 'score': 0.9999776482582092, 'word': '공략에도'},\n",
      " {'entity': 'O', 'score': 0.9999712109565735, 'word': '속도가'},\n",
      " {'entity': 'O', 'score': 0.9999760389328003, 'word': '붙을'},\n",
      " {'entity': 'O', 'score': 0.9999691247940063, 'word': '것으로'},\n",
      " {'entity': 'O', 'score': 0.9999678730964661, 'word': '전망된다.'}]\n"
     ]
    }
   ],
   "source": [
    "pprint(ner(query))"
   ]
  },
  {
   "cell_type": "markdown",
   "id": "e5015631-5e88-4ca8-8a47-8876913b442d",
   "metadata": {},
   "source": [
    "- Elapsed time"
   ]
  },
  {
   "cell_type": "code",
   "execution_count": 5,
   "id": "175b97a9-0a7a-4918-bb62-7b0f5d74751e",
   "metadata": {},
   "outputs": [
    {
     "name": "stdout",
     "output_type": "stream",
     "text": [
      "Elapsed time: 19.2761287689209 ms\n"
     ]
    }
   ],
   "source": [
    "start = torch.cuda.Event(enable_timing=True)\n",
    "end = torch.cuda.Event(enable_timing=True)\n",
    "\n",
    "start.record()\n",
    "ner(query)\n",
    "end.record()\n",
    "\n",
    "torch.cuda.synchronize()\n",
    "\n",
    "print('Elapsed time: {} ms'.format(start.elapsed_time(end)))"
   ]
  },
  {
   "cell_type": "markdown",
   "id": "c10487d5-8318-4931-a3eb-49dfa3c80db1",
   "metadata": {},
   "source": [
    "- Showing other NER results"
   ]
  },
  {
   "cell_type": "code",
   "execution_count": 6,
   "id": "c3dd4c66-76b1-49d7-a2a5-f9dc1fa04954",
   "metadata": {},
   "outputs": [
    {
     "name": "stdout",
     "output_type": "stream",
     "text": [
      "[{'entity': 'O', 'score': 0.7511236071586609, 'word': '\"반토막\"'},\n",
      " {'entity': 'ORG-B', 'score': 0.9995559453964233, 'word': '마이크론'},\n",
      " {'entity': 'O', 'score': 0.8277828693389893, 'word': '주가…아거스'},\n",
      " {'entity': 'O', 'score': 0.9992302060127258, 'word': '\"매수할'},\n",
      " {'entity': 'O', 'score': 0.9999534487724304, 'word': '타이밍'},\n",
      " {'entity': 'O', 'score': 0.9999535083770752, 'word': '아니다\"'}]\n",
      "\n",
      "\n",
      "[{'entity': 'ORG-B', 'score': 0.9981120824813843, 'word': '애플'},\n",
      " {'entity': 'TRM-B', 'score': 0.9973036646842957, 'word': '아이폰14'},\n",
      " {'entity': 'O', 'score': 0.8423691987991333, 'word': '프로'},\n",
      " {'entity': 'O', 'score': 0.9999445676803589, 'word': '생산'},\n",
      " {'entity': 'O', 'score': 0.9998543858528137, 'word': '속도'},\n",
      " {'entity': 'O', 'score': 0.9992532730102539, 'word': '회복'},\n",
      " {'entity': 'O', 'score': 0.999006450176239, 'word': '중…\"생산'},\n",
      " {'entity': 'O', 'score': 0.9994794130325317, 'word': '능력'},\n",
      " {'entity': 'NUM-B', 'score': 0.9899680018424988, 'word': '70%로'},\n",
      " {'entity': 'O', 'score': 0.9998534917831421, 'word': '회복\"'}]\n",
      "\n",
      "\n",
      "[{'entity': 'ORG-B', 'score': 0.9995225667953491, 'word': '모건스탠리'},\n",
      " {'entity': 'LOC-B', 'score': 0.9457388520240784, 'word': '\"테슬라,'},\n",
      " {'entity': 'LOC-B', 'score': 0.8066743612289429, 'word': 'EV'},\n",
      " {'entity': 'O', 'score': 0.9996775984764099, 'word': '시장서'},\n",
      " {'entity': 'O', 'score': 0.9999493956565857, 'word': '격차'},\n",
      " {'entity': 'O', 'score': 0.9990318417549133, 'word': '벌릴'},\n",
      " {'entity': 'O', 'score': 0.9764936566352844, 'word': '것\"…테슬라'},\n",
      " {'entity': 'O', 'score': 0.9995763897895813, 'word': '주가'},\n",
      " {'entity': 'NUM-B', 'score': 0.9981926083564758, 'word': '8%'},\n",
      " {'entity': 'O', 'score': 0.5355684161186218, 'word': '이상'},\n",
      " {'entity': 'O', 'score': 0.9906592965126038, 'word': '상승'},\n",
      " {'entity': 'O', 'score': 0.9990622997283936, 'word': '반전'}]\n",
      "\n",
      "\n",
      "[{'entity': 'ORG-B', 'score': 0.9980542659759521, 'word': '뉴욕증시'},\n",
      " {'entity': 'O', 'score': 0.989827036857605, 'word': '상승출발…테슬라'},\n",
      " {'entity': 'O', 'score': 0.9999185800552368, 'word': '등'},\n",
      " {'entity': 'O', 'score': 0.9745815992355347, 'word': '기술주들'},\n",
      " {'entity': 'O', 'score': 0.8356310725212097, 'word': '일제'},\n",
      " {'entity': 'O', 'score': 0.9985573291778564, 'word': '반등'}]\n",
      "\n",
      "\n",
      "[{'entity': 'CVL-B', 'score': 0.9995837211608887, 'word': '기술분석가들'},\n",
      " {'entity': 'ORG-B', 'score': 0.9994640350341797, 'word': '\"애플,'},\n",
      " {'entity': 'NUM-B', 'score': 0.999692976474762, 'word': '130달러'},\n",
      " {'entity': 'O', 'score': 0.9999681711196899, 'word': '깨져'},\n",
      " {'entity': 'O', 'score': 0.9999551773071289, 'word': '추가'},\n",
      " {'entity': 'O', 'score': 0.99996018409729, 'word': '하락'},\n",
      " {'entity': 'O', 'score': 0.999970018863678, 'word': '가능성'},\n",
      " {'entity': 'O', 'score': 0.9999651312828064, 'word': '높아\"'}]\n",
      "\n",
      "\n",
      "[{'entity': 'ORG-B', 'score': 0.8440096974372864, 'word': 'CFRA,'},\n",
      " {'entity': 'ORG-B', 'score': 0.9690463542938232, 'word': '넷플릭스'},\n",
      " {'entity': 'O', 'score': 0.8627694845199585, 'word': '매도→매수로'},\n",
      " {'entity': 'NUM-B', 'score': 0.9977437853813171, 'word': '두단계'},\n",
      " {'entity': 'O', 'score': 0.9963844418525696, 'word': '상향'}]\n",
      "\n",
      "\n",
      "[{'entity': 'ORG-B', 'score': 0.9976840615272522, 'word': 'GE'},\n",
      " {'entity': 'CVL-B', 'score': 0.9095185399055481, 'word': '헬스케어,'},\n",
      " {'entity': 'DAT-B', 'score': 0.999757707118988, 'word': '1월'},\n",
      " {'entity': 'DAT-I', 'score': 0.9994773864746094, 'word': '4일부터'},\n",
      " {'entity': 'O', 'score': 0.9999690651893616, 'word': '별도'},\n",
      " {'entity': 'O', 'score': 0.9999524354934692, 'word': '주식으로'},\n",
      " {'entity': 'O', 'score': 0.999963641166687, 'word': '거래'}]\n",
      "\n",
      "\n",
      "[{'entity': 'DAT-B', 'score': 0.855895459651947, 'word': '올해'},\n",
      " {'entity': 'LOC-B', 'score': 0.6814945936203003, 'word': '美증시'},\n",
      " {'entity': 'O', 'score': 0.43929430842399597, 'word': '\"인플레이션,'},\n",
      " {'entity': 'O', 'score': 0.9998525381088257, 'word': '기업실적·파월'},\n",
      " {'entity': 'O', 'score': 0.9999013543128967, 'word': '발언이'},\n",
      " {'entity': 'O', 'score': 0.9999213814735413, 'word': '폭탄\"'}]\n",
      "\n",
      "\n",
      "[{'entity': 'PER-B', 'score': 0.9979043006896973, 'word': '머스크'},\n",
      " {'entity': 'DAT-B', 'score': 0.9984976053237915, 'word': '\"연말까지'},\n",
      " {'entity': 'LOC-B', 'score': 0.9663654565811157, 'word': '테슬라'},\n",
      " {'entity': 'O', 'score': 0.5941041111946106, 'word': '배송'},\n",
      " {'entity': 'CVL-B', 'score': 0.5018539428710938, 'word': '도와달라\"'},\n",
      " {'entity': 'CVL-B', 'score': 0.9628623723983765, 'word': '직원에'},\n",
      " {'entity': 'TRM-B', 'score': 0.8786627054214478, 'word': '이메일'}]\n",
      "\n",
      "\n",
      "[{'entity': 'ORG-B', 'score': 0.9947386384010315, 'word': '씨티그룹'},\n",
      " {'entity': 'DAT-B', 'score': 0.9897473454475403, 'word': '\"올해'},\n",
      " {'entity': 'O', 'score': 0.999912679195404, 'word': '유망'},\n",
      " {'entity': 'O', 'score': 0.5571461319923401, 'word': '바이오주'},\n",
      " {'entity': 'ORG-B', 'score': 0.49747565388679504, 'word': 'TOP3...73%'},\n",
      " {'entity': 'O', 'score': 0.9998819828033447, 'word': '상승'},\n",
      " {'entity': 'O', 'score': 0.9999677538871765, 'word': '여력”'}]\n",
      "\n",
      "\n",
      "[{'entity': 'ORG-B', 'score': 0.9995774030685425, 'word': 'TSMC,'},\n",
      " {'entity': 'LOC-B', 'score': 0.8262529969215393, 'word': '대만남부공장에서'},\n",
      " {'entity': 'TRM-B', 'score': 0.996455192565918, 'word': '3나노칩'},\n",
      " {'entity': 'O', 'score': 0.9999380707740784, 'word': '양산'},\n",
      " {'entity': 'O', 'score': 0.9998828768730164, 'word': '시작'}]\n",
      "\n",
      "\n",
      "[{'entity': 'ORG-B', 'score': 0.9995430707931519, 'word': '디즈니,'},\n",
      " {'entity': 'DAT-B', 'score': 0.9995806813240051, 'word': '2014년'},\n",
      " {'entity': 'DAT-I', 'score': 0.9932005405426025, 'word': '10월'},\n",
      " {'entity': 'O', 'score': 0.960456371307373, 'word': '이후'},\n",
      " {'entity': 'O', 'score': 0.999929666519165, 'word': '주가'},\n",
      " {'entity': 'O', 'score': 0.9999578595161438, 'word': '가장'},\n",
      " {'entity': 'O', 'score': 0.9999508261680603, 'word': '낮아'}]\n",
      "\n",
      "\n",
      "[{'entity': 'CVL-B', 'score': 0.9996452331542969, 'word': '전문가도'},\n",
      " {'entity': 'O', 'score': 0.9940685629844666, 'word': '\"미쳤다\"…17세기'},\n",
      " {'entity': 'O', 'score': 0.9145729541778564, 'word': '가짜'},\n",
      " {'entity': 'PER-B', 'score': 0.8782256245613098, 'word': '\"모나리자\"'},\n",
      " {'entity': 'NUM-B', 'score': 0.9973470568656921, 'word': '39억원에'},\n",
      " {'entity': 'O', 'score': 0.9998992681503296, 'word': '낙찰'}]\n",
      "\n",
      "\n",
      "[{'entity': 'ORG-B', 'score': 0.9994351863861084, 'word': '삼성'},\n",
      " {'entity': 'O', 'score': 0.8921143412590027, 'word': '‘더'},\n",
      " {'entity': 'O', 'score': 0.9925846457481384, 'word': '프레임’으로'},\n",
      " {'entity': 'O', 'score': 0.9982132911682129, 'word': '모나리자'},\n",
      " {'entity': 'O', 'score': 0.9982662796974182, 'word': '감상'}]\n",
      "\n",
      "\n",
      "[{'entity': 'PER-B', 'score': 0.9986163377761841, 'word': '모나리자,'},\n",
      " {'entity': 'O', 'score': 0.727386474609375, 'word': '‘알쏭달쏭'},\n",
      " {'entity': 'O', 'score': 0.9996838569641113, 'word': '캐치!'},\n",
      " {'entity': 'PER-B', 'score': 0.9948994517326355, 'word': '티니핑’'},\n",
      " {'entity': 'O', 'score': 0.9993060231208801, 'word': '캐릭터'},\n",
      " {'entity': 'O', 'score': 0.9952626824378967, 'word': '콜라보'},\n",
      " {'entity': 'O', 'score': 0.625251829624176, 'word': '미용티슈·물티슈'},\n",
      " {'entity': 'O', 'score': 0.999923586845398, 'word': '선봬'}]\n",
      "\n",
      "\n",
      "[{'entity': 'O', 'score': 0.999722421169281, 'word': '한편,'},\n",
      " {'entity': 'PER-B', 'score': 0.729956865310669, 'word': '모나리자는'},\n",
      " {'entity': 'ORG-B', 'score': 0.9993295073509216, 'word': 'MSS'},\n",
      " {'entity': 'ORG-I', 'score': 0.9311549067497253, 'word': '홀딩스(대표'},\n",
      " {'entity': 'PER-B', 'score': 0.9995374083518982, 'word': '정회훈)를'},\n",
      " {'entity': 'O', 'score': 0.9992768168449402, 'word': '지주회사로'},\n",
      " {'entity': 'O', 'score': 0.999979555606842, 'word': '두고'},\n",
      " {'entity': 'O', 'score': 0.9999778866767883, 'word': '있는'},\n",
      " {'entity': 'O', 'score': 0.9991130232810974, 'word': '생활위생'},\n",
      " {'entity': 'O', 'score': 0.9999539256095886, 'word': '전문'},\n",
      " {'entity': 'O', 'score': 0.9982956051826477, 'word': '그룹인'},\n",
      " {'entity': 'ORG-B', 'score': 0.9911829829216003, 'word': 'MSS'},\n",
      " {'entity': 'CVL-B', 'score': 0.4728725552558899, 'word': '그룹산하의'},\n",
      " {'entity': 'O', 'score': 0.9998546242713928, 'word': '회사로,'},\n",
      " {'entity': 'O', 'score': 0.9998950362205505, 'word': '각종'},\n",
      " {'entity': 'O', 'score': 0.9525982737541199, 'word': '티슈'},\n",
      " {'entity': 'O', 'score': 0.9999234676361084, 'word': '제품과'},\n",
      " {'entity': 'O', 'score': 0.939293384552002, 'word': '물티슈,'},\n",
      " {'entity': 'TRM-B', 'score': 0.6567184329032898, 'word': '마스크,'},\n",
      " {'entity': 'O', 'score': 0.9872487187385559, 'word': '유아용'},\n",
      " {'entity': 'O', 'score': 0.9999470114707947, 'word': '및'},\n",
      " {'entity': 'O', 'score': 0.9920618534088135, 'word': '성인용'},\n",
      " {'entity': 'O', 'score': 0.8817660808563232, 'word': '기저귀'},\n",
      " {'entity': 'O', 'score': 0.9999669194221497, 'word': '등'},\n",
      " {'entity': 'O', 'score': 0.9999693036079407, 'word': '다양한'},\n",
      " {'entity': 'O', 'score': 0.999591588973999, 'word': '위생'},\n",
      " {'entity': 'O', 'score': 0.9999021887779236, 'word': '용품을'},\n",
      " {'entity': 'O', 'score': 0.9999480843544006, 'word': '출시하며'},\n",
      " {'entity': 'O', 'score': 0.9998352527618408, 'word': '위생'},\n",
      " {'entity': 'O', 'score': 0.9999580979347229, 'word': '용품'},\n",
      " {'entity': 'O', 'score': 0.9999366402626038, 'word': '기업으로'},\n",
      " {'entity': 'O', 'score': 0.999972403049469, 'word': '입지를'},\n",
      " {'entity': 'O', 'score': 0.999982476234436, 'word': '강화하고'},\n",
      " {'entity': 'O', 'score': 0.9999839067459106, 'word': '있다.'}]\n",
      "\n",
      "\n"
     ]
    }
   ],
   "source": [
    "for query in queries: \n",
    "    pprint(ner(query))\n",
    "    print('\\n')"
   ]
  },
  {
   "cell_type": "markdown",
   "id": "11486901-106d-4331-91f1-468e76079aed",
   "metadata": {},
   "source": [
    "### [monologg/koelectra-base-v3-naver-ner](https://huggingface.co/monologg/koelectra-base-v3-naver-ner)"
   ]
  },
  {
   "cell_type": "markdown",
   "id": "68f0385f-3e38-44bc-9d25-6943d0427874",
   "metadata": {},
   "source": [
    "- `transformers==3.3.1` can't find `monologg/koelectra-base-v3-naver-ner`\n",
    "\n",
    "```\n",
    "OSError: Model name 'monologg/koelectra-base-v3-naver-ner' was not found in tokenizers model name list (google/electra-small-generator, google/electra-base-generator, google/electra-large-generator, google/electra-small-discriminator, google/electra-base-discriminator, google/electra-large-discriminator). We assumed 'monologg/koelectra-base-v3-naver-ner' was a path, a model identifier, or url to a directory containing vocabulary files named ['vocab.txt'] but couldn't find such vocabulary files at this path or url.\n",
    "```"
   ]
  },
  {
   "cell_type": "code",
   "execution_count": 7,
   "id": "a929087a-97a4-4054-9915-37855bae678a",
   "metadata": {},
   "outputs": [
    {
     "ename": "OSError",
     "evalue": "Model name 'monologg/koelectra-base-v3-naver-ner' was not found in tokenizers model name list (google/electra-small-generator, google/electra-base-generator, google/electra-large-generator, google/electra-small-discriminator, google/electra-base-discriminator, google/electra-large-discriminator). We assumed 'monologg/koelectra-base-v3-naver-ner' was a path, a model identifier, or url to a directory containing vocabulary files named ['vocab.txt'] but couldn't find such vocabulary files at this path or url.",
     "output_type": "error",
     "traceback": [
      "\u001b[0;31m---------------------------------------------------------------------------\u001b[0m",
      "\u001b[0;31mOSError\u001b[0m                                   Traceback (most recent call last)",
      "\u001b[0;32m/tmp/ipykernel_3756/3673902667.py\u001b[0m in \u001b[0;36m<module>\u001b[0;34m\u001b[0m\n\u001b[0;32m----> 1\u001b[0;31m \u001b[0mtokenizer\u001b[0m \u001b[0;34m=\u001b[0m \u001b[0mElectraTokenizer\u001b[0m\u001b[0;34m.\u001b[0m\u001b[0mfrom_pretrained\u001b[0m\u001b[0;34m(\u001b[0m\u001b[0;34m\"monologg/koelectra-base-v3-naver-ner\"\u001b[0m\u001b[0;34m)\u001b[0m\u001b[0;34m\u001b[0m\u001b[0;34m\u001b[0m\u001b[0m\n\u001b[0m\u001b[1;32m      2\u001b[0m \u001b[0mmodel\u001b[0m \u001b[0;34m=\u001b[0m \u001b[0mElectraForTokenClassification\u001b[0m\u001b[0;34m.\u001b[0m\u001b[0mfrom_pretrained\u001b[0m\u001b[0;34m(\u001b[0m\u001b[0;34m\"monologg/koelectra-base-v3-naver-ner\"\u001b[0m\u001b[0;34m)\u001b[0m\u001b[0;34m\u001b[0m\u001b[0;34m\u001b[0m\u001b[0m\n",
      "\u001b[0;32m/opt/conda/lib/python3.7/site-packages/transformers/tokenization_utils_base.py\u001b[0m in \u001b[0;36mfrom_pretrained\u001b[0;34m(cls, *inputs, **kwargs)\u001b[0m\n\u001b[1;32m   1426\u001b[0m \u001b[0;34m\u001b[0m\u001b[0m\n\u001b[1;32m   1427\u001b[0m         \"\"\"\n\u001b[0;32m-> 1428\u001b[0;31m         \u001b[0;32mreturn\u001b[0m \u001b[0mcls\u001b[0m\u001b[0;34m.\u001b[0m\u001b[0m_from_pretrained\u001b[0m\u001b[0;34m(\u001b[0m\u001b[0;34m*\u001b[0m\u001b[0minputs\u001b[0m\u001b[0;34m,\u001b[0m \u001b[0;34m**\u001b[0m\u001b[0mkwargs\u001b[0m\u001b[0;34m)\u001b[0m\u001b[0;34m\u001b[0m\u001b[0;34m\u001b[0m\u001b[0m\n\u001b[0m\u001b[1;32m   1429\u001b[0m \u001b[0;34m\u001b[0m\u001b[0m\n\u001b[1;32m   1430\u001b[0m     \u001b[0;34m@\u001b[0m\u001b[0mclassmethod\u001b[0m\u001b[0;34m\u001b[0m\u001b[0;34m\u001b[0m\u001b[0m\n",
      "\u001b[0;32m/opt/conda/lib/python3.7/site-packages/transformers/tokenization_utils_base.py\u001b[0m in \u001b[0;36m_from_pretrained\u001b[0;34m(cls, pretrained_model_name_or_path, *init_inputs, **kwargs)\u001b[0m\n\u001b[1;32m   1532\u001b[0m                     \u001b[0;34m\", \"\u001b[0m\u001b[0;34m.\u001b[0m\u001b[0mjoin\u001b[0m\u001b[0;34m(\u001b[0m\u001b[0ms3_models\u001b[0m\u001b[0;34m)\u001b[0m\u001b[0;34m,\u001b[0m\u001b[0;34m\u001b[0m\u001b[0;34m\u001b[0m\u001b[0m\n\u001b[1;32m   1533\u001b[0m                     \u001b[0mpretrained_model_name_or_path\u001b[0m\u001b[0;34m,\u001b[0m\u001b[0;34m\u001b[0m\u001b[0;34m\u001b[0m\u001b[0m\n\u001b[0;32m-> 1534\u001b[0;31m                     \u001b[0mlist\u001b[0m\u001b[0;34m(\u001b[0m\u001b[0mcls\u001b[0m\u001b[0;34m.\u001b[0m\u001b[0mvocab_files_names\u001b[0m\u001b[0;34m.\u001b[0m\u001b[0mvalues\u001b[0m\u001b[0;34m(\u001b[0m\u001b[0;34m)\u001b[0m\u001b[0;34m)\u001b[0m\u001b[0;34m,\u001b[0m\u001b[0;34m\u001b[0m\u001b[0;34m\u001b[0m\u001b[0m\n\u001b[0m\u001b[1;32m   1535\u001b[0m                 )\n\u001b[1;32m   1536\u001b[0m             )\n",
      "\u001b[0;31mOSError\u001b[0m: Model name 'monologg/koelectra-base-v3-naver-ner' was not found in tokenizers model name list (google/electra-small-generator, google/electra-base-generator, google/electra-large-generator, google/electra-small-discriminator, google/electra-base-discriminator, google/electra-large-discriminator). We assumed 'monologg/koelectra-base-v3-naver-ner' was a path, a model identifier, or url to a directory containing vocabulary files named ['vocab.txt'] but couldn't find such vocabulary files at this path or url."
     ]
    }
   ],
   "source": [
    "tokenizer = ElectraTokenizer.from_pretrained(\"monologg/koelectra-base-v3-naver-ner\")\n",
    "model = ElectraForTokenClassification.from_pretrained(\"monologg/koelectra-base-v3-naver-ner\")"
   ]
  },
  {
   "cell_type": "markdown",
   "id": "d29b1ccf-c6df-44ea-8c4a-9368f360bf60",
   "metadata": {},
   "source": [
    "- So I cloned it directly"
   ]
  },
  {
   "cell_type": "code",
   "execution_count": null,
   "id": "4c36931b-541c-4fe2-8e2c-c782c70e43d4",
   "metadata": {},
   "outputs": [],
   "source": [
    "!git clone https://huggingface.co/monologg/koelectra-base-v3-naver-ner"
   ]
  },
  {
   "cell_type": "code",
   "execution_count": 8,
   "id": "6191debd-dc53-42e5-99a5-b0dd24b80ad5",
   "metadata": {},
   "outputs": [],
   "source": [
    "tokenizer = ElectraTokenizer.from_pretrained(\"koelectra-base-v3-naver-ner\")\n",
    "model = ElectraForTokenClassification.from_pretrained(\"koelectra-base-v3-naver-ner\").to(device)"
   ]
  },
  {
   "cell_type": "code",
   "execution_count": 9,
   "id": "aaf10eeb-699c-4afc-a817-e14ef480cc1f",
   "metadata": {},
   "outputs": [],
   "source": [
    "ner = NerPipeline(\n",
    "    model=model,\n",
    "    tokenizer=tokenizer,\n",
    "    ignore_labels=[],\n",
    "    ignore_special_tokens=True,\n",
    "    device=device_no\n",
    ")"
   ]
  },
  {
   "cell_type": "code",
   "execution_count": 10,
   "id": "efcc1686-3e91-4ae2-b125-89321402e197",
   "metadata": {},
   "outputs": [
    {
     "name": "stdout",
     "output_type": "stream",
     "text": [
      "[{'entity': 'O', 'score': 0.9999983906745911, 'word': '한편,'},\n",
      " {'entity': 'ORG-B', 'score': 0.9999523758888245, 'word': '모나리자는'},\n",
      " {'entity': 'ORG-B', 'score': 0.9999857544898987, 'word': 'MSS'},\n",
      " {'entity': 'ORG-I', 'score': 0.9990755319595337, 'word': '홀딩스(대표'},\n",
      " {'entity': 'PER-B', 'score': 0.9999769926071167, 'word': '정회훈)를'},\n",
      " {'entity': 'O', 'score': 0.9999976754188538, 'word': '지주회사로'},\n",
      " {'entity': 'O', 'score': 0.9999949932098389, 'word': '두고'},\n",
      " {'entity': 'O', 'score': 0.999997079372406, 'word': '있는'},\n",
      " {'entity': 'O', 'score': 0.999990701675415, 'word': '생활위생'},\n",
      " {'entity': 'O', 'score': 0.9999984502792358, 'word': '전문'},\n",
      " {'entity': 'O', 'score': 0.9999976754188538, 'word': '그룹인'},\n",
      " {'entity': 'ORG-B', 'score': 0.9999130368232727, 'word': 'MSS'},\n",
      " {'entity': 'O', 'score': 0.9973904490470886, 'word': '그룹산하의'},\n",
      " {'entity': 'O', 'score': 0.9999976754188538, 'word': '회사로,'},\n",
      " {'entity': 'O', 'score': 0.9999988079071045, 'word': '각종'},\n",
      " {'entity': 'O', 'score': 0.8654730916023254, 'word': '티슈'},\n",
      " {'entity': 'O', 'score': 0.9999960660934448, 'word': '제품과'},\n",
      " {'entity': 'O', 'score': 0.9922717213630676, 'word': '물티슈,'},\n",
      " {'entity': 'O', 'score': 0.8525807857513428, 'word': '마스크,'},\n",
      " {'entity': 'O', 'score': 0.9999972581863403, 'word': '유아용'},\n",
      " {'entity': 'O', 'score': 0.9999982714653015, 'word': '및'},\n",
      " {'entity': 'O', 'score': 0.9999988079071045, 'word': '성인용'},\n",
      " {'entity': 'O', 'score': 0.9998644590377808, 'word': '기저귀'},\n",
      " {'entity': 'O', 'score': 0.9999988079071045, 'word': '등'},\n",
      " {'entity': 'O', 'score': 0.9999991059303284, 'word': '다양한'},\n",
      " {'entity': 'O', 'score': 0.9999990463256836, 'word': '위생'},\n",
      " {'entity': 'O', 'score': 0.999998927116394, 'word': '용품을'},\n",
      " {'entity': 'O', 'score': 0.9999989867210388, 'word': '출시하며'},\n",
      " {'entity': 'O', 'score': 0.999998927116394, 'word': '위생'},\n",
      " {'entity': 'O', 'score': 0.9999986886978149, 'word': '용품'},\n",
      " {'entity': 'O', 'score': 0.9999985694885254, 'word': '기업으로'},\n",
      " {'entity': 'O', 'score': 0.9999988079071045, 'word': '입지를'},\n",
      " {'entity': 'O', 'score': 0.9999989867210388, 'word': '강화하고'},\n",
      " {'entity': 'O', 'score': 0.9999988079071045, 'word': '있다.'}]\n"
     ]
    }
   ],
   "source": [
    "pprint(ner(query))"
   ]
  },
  {
   "cell_type": "code",
   "execution_count": 11,
   "id": "f48ccc66-5535-402b-8ca6-457d1cc05cc9",
   "metadata": {},
   "outputs": [
    {
     "name": "stdout",
     "output_type": "stream",
     "text": [
      "Elapsed time: 18.635711669921875 ms\n"
     ]
    }
   ],
   "source": [
    "start = torch.cuda.Event(enable_timing=True)\n",
    "end = torch.cuda.Event(enable_timing=True)\n",
    "\n",
    "start.record()\n",
    "ner(query)\n",
    "end.record()\n",
    "\n",
    "torch.cuda.synchronize()\n",
    "\n",
    "print('Elapsed time: {} ms'.format(start.elapsed_time(end)))"
   ]
  },
  {
   "cell_type": "markdown",
   "id": "a0cfc110-b231-4855-a002-30c924c50bad",
   "metadata": {},
   "source": [
    "- Showing other NER results"
   ]
  },
  {
   "cell_type": "code",
   "execution_count": 12,
   "id": "2df4ef24-99eb-4d7e-a411-955482643ea5",
   "metadata": {},
   "outputs": [
    {
     "name": "stdout",
     "output_type": "stream",
     "text": [
      "[{'entity': 'O', 'score': 0.9579496383666992, 'word': '\"반토막\"'},\n",
      " {'entity': 'ORG-B', 'score': 0.9999145269393921, 'word': '마이크론'},\n",
      " {'entity': 'O', 'score': 0.8285893201828003, 'word': '주가…아거스'},\n",
      " {'entity': 'O', 'score': 0.9999950528144836, 'word': '\"매수할'},\n",
      " {'entity': 'O', 'score': 0.999996542930603, 'word': '타이밍'},\n",
      " {'entity': 'O', 'score': 0.9999969005584717, 'word': '아니다\"'}]\n",
      "\n",
      "\n",
      "[{'entity': 'ORG-B', 'score': 0.9999739527702332, 'word': '애플'},\n",
      " {'entity': 'TRM-B', 'score': 0.9998205900192261, 'word': '아이폰14'},\n",
      " {'entity': 'TRM-I', 'score': 0.9996592998504639, 'word': '프로'},\n",
      " {'entity': 'O', 'score': 0.999998927116394, 'word': '생산'},\n",
      " {'entity': 'O', 'score': 0.9999986290931702, 'word': '속도'},\n",
      " {'entity': 'O', 'score': 0.9999985098838806, 'word': '회복'},\n",
      " {'entity': 'O', 'score': 0.9998188018798828, 'word': '중…\"생산'},\n",
      " {'entity': 'O', 'score': 0.9999990463256836, 'word': '능력'},\n",
      " {'entity': 'O', 'score': 0.5029545426368713, 'word': '70%로'},\n",
      " {'entity': 'O', 'score': 0.9999988079071045, 'word': '회복\"'}]\n",
      "\n",
      "\n",
      "[{'entity': 'ORG-B', 'score': 0.9999749660491943, 'word': '모건스탠리'},\n",
      " {'entity': 'ORG-B', 'score': 0.9999773502349854, 'word': '\"테슬라,'},\n",
      " {'entity': 'TRM-B', 'score': 0.9999140501022339, 'word': 'EV'},\n",
      " {'entity': 'O', 'score': 0.9999972581863403, 'word': '시장서'},\n",
      " {'entity': 'O', 'score': 0.9999962449073792, 'word': '격차'},\n",
      " {'entity': 'ORG-B', 'score': 0.9999645352363586, 'word': '벌릴'},\n",
      " {'entity': 'ORG-B', 'score': 0.9997900128364563, 'word': '것\"…테슬라'},\n",
      " {'entity': 'O', 'score': 0.9999978542327881, 'word': '주가'},\n",
      " {'entity': 'NUM-B', 'score': 0.999990701675415, 'word': '8%'},\n",
      " {'entity': 'O', 'score': 0.999993622303009, 'word': '이상'},\n",
      " {'entity': 'O', 'score': 0.9999980330467224, 'word': '상승'},\n",
      " {'entity': 'O', 'score': 0.9999988079071045, 'word': '반전'}]\n",
      "\n",
      "\n",
      "[{'entity': 'ORG-B', 'score': 0.9841427803039551, 'word': '뉴욕증시'},\n",
      " {'entity': 'ORG-B', 'score': 0.9992048144340515, 'word': '상승출발…테슬라'},\n",
      " {'entity': 'O', 'score': 0.9999968409538269, 'word': '등'},\n",
      " {'entity': 'O', 'score': 0.9999980926513672, 'word': '기술주들'},\n",
      " {'entity': 'O', 'score': 0.9999976754188538, 'word': '일제'},\n",
      " {'entity': 'O', 'score': 0.9999988675117493, 'word': '반등'}]\n",
      "\n",
      "\n",
      "[{'entity': 'CVL-B', 'score': 0.9999693036079407, 'word': '기술분석가들'},\n",
      " {'entity': 'ORG-B', 'score': 0.9999791383743286, 'word': '\"애플,'},\n",
      " {'entity': 'NUM-B', 'score': 0.9965761303901672, 'word': '130달러'},\n",
      " {'entity': 'O', 'score': 0.9999977350234985, 'word': '깨져'},\n",
      " {'entity': 'O', 'score': 0.999998152256012, 'word': '추가'},\n",
      " {'entity': 'O', 'score': 0.9999988675117493, 'word': '하락'},\n",
      " {'entity': 'O', 'score': 0.9999982714653015, 'word': '가능성'},\n",
      " {'entity': 'O', 'score': 0.9999983906745911, 'word': '높아\"'}]\n",
      "\n",
      "\n",
      "[{'entity': 'ORG-B', 'score': 0.9999619126319885, 'word': 'CFRA,'},\n",
      " {'entity': 'ORG-B', 'score': 0.9999656081199646, 'word': '넷플릭스'},\n",
      " {'entity': 'O', 'score': 0.9999964833259583, 'word': '매도→매수로'},\n",
      " {'entity': 'NUM-B', 'score': 0.9992326498031616, 'word': '두단계'},\n",
      " {'entity': 'O', 'score': 0.9999955892562866, 'word': '상향'}]\n",
      "\n",
      "\n",
      "[{'entity': 'ORG-B', 'score': 0.9999684691429138, 'word': 'GE'},\n",
      " {'entity': 'ORG-I', 'score': 0.9996752142906189, 'word': '헬스케어,'},\n",
      " {'entity': 'DAT-B', 'score': 0.9999707937240601, 'word': '1월'},\n",
      " {'entity': 'DAT-I', 'score': 0.999958336353302, 'word': '4일부터'},\n",
      " {'entity': 'O', 'score': 0.9999973177909851, 'word': '별도'},\n",
      " {'entity': 'O', 'score': 0.9999961853027344, 'word': '주식으로'},\n",
      " {'entity': 'O', 'score': 0.9999985694885254, 'word': '거래'}]\n",
      "\n",
      "\n",
      "[{'entity': 'DAT-B', 'score': 0.9999693036079407, 'word': '올해'},\n",
      " {'entity': 'LOC-B', 'score': 0.9999572038650513, 'word': '美증시'},\n",
      " {'entity': 'O', 'score': 0.8793120980262756, 'word': '\"인플레이션,'},\n",
      " {'entity': 'O', 'score': 0.9999895691871643, 'word': '기업실적·파월'},\n",
      " {'entity': 'O', 'score': 0.9999768733978271, 'word': '발언이'},\n",
      " {'entity': 'O', 'score': 0.9999784827232361, 'word': '폭탄\"'}]\n",
      "\n",
      "\n",
      "[{'entity': 'PER-B', 'score': 0.9999598860740662, 'word': '머스크'},\n",
      " {'entity': 'DAT-B', 'score': 0.9998950958251953, 'word': '\"연말까지'},\n",
      " {'entity': 'ORG-B', 'score': 0.9999812245368958, 'word': '테슬라'},\n",
      " {'entity': 'O', 'score': 0.9999945163726807, 'word': '배송'},\n",
      " {'entity': 'O', 'score': 0.9999900460243225, 'word': '도와달라\"'},\n",
      " {'entity': 'CVL-B', 'score': 0.9999874234199524, 'word': '직원에'},\n",
      " {'entity': 'TRM-B', 'score': 0.9949198365211487, 'word': '이메일'}]\n",
      "\n",
      "\n",
      "[{'entity': 'ORG-B', 'score': 0.99998539686203, 'word': '씨티그룹'},\n",
      " {'entity': 'DAT-B', 'score': 0.9999579787254333, 'word': '\"올해'},\n",
      " {'entity': 'O', 'score': 0.9999921321868896, 'word': '유망'},\n",
      " {'entity': 'O', 'score': 0.9991738200187683, 'word': '바이오주'},\n",
      " {'entity': 'NUM-B', 'score': 0.9999839663505554, 'word': 'TOP3...73%'},\n",
      " {'entity': 'O', 'score': 0.9999966025352478, 'word': '상승'},\n",
      " {'entity': 'O', 'score': 0.9999983310699463, 'word': '여력”'}]\n",
      "\n",
      "\n",
      "[{'entity': 'ORG-B', 'score': 0.9999842047691345, 'word': 'TSMC,'},\n",
      " {'entity': 'AFW-B', 'score': 0.9989854693412781, 'word': '대만남부공장에서'},\n",
      " {'entity': 'TRM-B', 'score': 0.9984409809112549, 'word': '3나노칩'},\n",
      " {'entity': 'O', 'score': 0.9999977350234985, 'word': '양산'},\n",
      " {'entity': 'O', 'score': 0.9999988675117493, 'word': '시작'}]\n",
      "\n",
      "\n",
      "[{'entity': 'ORG-B', 'score': 0.9999683499336243, 'word': '디즈니,'},\n",
      " {'entity': 'DAT-B', 'score': 0.9997097253799438, 'word': '2014년'},\n",
      " {'entity': 'DAT-I', 'score': 0.9994186162948608, 'word': '10월'},\n",
      " {'entity': 'O', 'score': 0.9999305009841919, 'word': '이후'},\n",
      " {'entity': 'O', 'score': 0.9999977350234985, 'word': '주가'},\n",
      " {'entity': 'O', 'score': 0.999997615814209, 'word': '가장'},\n",
      " {'entity': 'O', 'score': 0.9999978542327881, 'word': '낮아'}]\n",
      "\n",
      "\n",
      "[{'entity': 'CVL-B', 'score': 0.9999812841415405, 'word': '전문가도'},\n",
      " {'entity': 'O', 'score': 0.936092734336853, 'word': '\"미쳤다\"…17세기'},\n",
      " {'entity': 'O', 'score': 0.5742442011833191, 'word': '가짜'},\n",
      " {'entity': 'PER-B', 'score': 0.9999221563339233, 'word': '\"모나리자\"'},\n",
      " {'entity': 'NUM-B', 'score': 0.9995328187942505, 'word': '39억원에'},\n",
      " {'entity': 'O', 'score': 0.9999985098838806, 'word': '낙찰'}]\n",
      "\n",
      "\n",
      "[{'entity': 'ORG-B', 'score': 0.9999852776527405, 'word': '삼성'},\n",
      " {'entity': 'TRM-B', 'score': 0.5907562375068665, 'word': '‘더'},\n",
      " {'entity': 'TRM-I', 'score': 0.7688044905662537, 'word': '프레임’으로'},\n",
      " {'entity': 'PER-B', 'score': 0.9969599843025208, 'word': '모나리자'},\n",
      " {'entity': 'O', 'score': 0.9998710751533508, 'word': '감상'}]\n",
      "\n",
      "\n",
      "[{'entity': 'PER-B', 'score': 0.9999591112136841, 'word': '모나리자,'},\n",
      " {'entity': 'O', 'score': 0.9979546666145325, 'word': '‘알쏭달쏭'},\n",
      " {'entity': 'O', 'score': 0.8788185715675354, 'word': '캐치!'},\n",
      " {'entity': 'PER-B', 'score': 0.8239721059799194, 'word': '티니핑’'},\n",
      " {'entity': 'O', 'score': 0.9997508525848389, 'word': '캐릭터'},\n",
      " {'entity': 'O', 'score': 0.9999932050704956, 'word': '콜라보'},\n",
      " {'entity': 'O', 'score': 0.9397523403167725, 'word': '미용티슈·물티슈'},\n",
      " {'entity': 'O', 'score': 0.9999947547912598, 'word': '선봬'}]\n",
      "\n",
      "\n",
      "[{'entity': 'O', 'score': 0.9999983906745911, 'word': '한편,'},\n",
      " {'entity': 'ORG-B', 'score': 0.9999523758888245, 'word': '모나리자는'},\n",
      " {'entity': 'ORG-B', 'score': 0.9999857544898987, 'word': 'MSS'},\n",
      " {'entity': 'ORG-I', 'score': 0.9990755319595337, 'word': '홀딩스(대표'},\n",
      " {'entity': 'PER-B', 'score': 0.9999769926071167, 'word': '정회훈)를'},\n",
      " {'entity': 'O', 'score': 0.9999976754188538, 'word': '지주회사로'},\n",
      " {'entity': 'O', 'score': 0.9999949932098389, 'word': '두고'},\n",
      " {'entity': 'O', 'score': 0.999997079372406, 'word': '있는'},\n",
      " {'entity': 'O', 'score': 0.999990701675415, 'word': '생활위생'},\n",
      " {'entity': 'O', 'score': 0.9999984502792358, 'word': '전문'},\n",
      " {'entity': 'O', 'score': 0.9999976754188538, 'word': '그룹인'},\n",
      " {'entity': 'ORG-B', 'score': 0.9999130368232727, 'word': 'MSS'},\n",
      " {'entity': 'O', 'score': 0.9973904490470886, 'word': '그룹산하의'},\n",
      " {'entity': 'O', 'score': 0.9999976754188538, 'word': '회사로,'},\n",
      " {'entity': 'O', 'score': 0.9999988079071045, 'word': '각종'},\n",
      " {'entity': 'O', 'score': 0.8654730916023254, 'word': '티슈'},\n",
      " {'entity': 'O', 'score': 0.9999960660934448, 'word': '제품과'},\n",
      " {'entity': 'O', 'score': 0.9922717213630676, 'word': '물티슈,'},\n",
      " {'entity': 'O', 'score': 0.8525807857513428, 'word': '마스크,'},\n",
      " {'entity': 'O', 'score': 0.9999972581863403, 'word': '유아용'},\n",
      " {'entity': 'O', 'score': 0.9999982714653015, 'word': '및'},\n",
      " {'entity': 'O', 'score': 0.9999988079071045, 'word': '성인용'},\n",
      " {'entity': 'O', 'score': 0.9998644590377808, 'word': '기저귀'},\n",
      " {'entity': 'O', 'score': 0.9999988079071045, 'word': '등'},\n",
      " {'entity': 'O', 'score': 0.9999991059303284, 'word': '다양한'},\n",
      " {'entity': 'O', 'score': 0.9999990463256836, 'word': '위생'},\n",
      " {'entity': 'O', 'score': 0.999998927116394, 'word': '용품을'},\n",
      " {'entity': 'O', 'score': 0.9999989867210388, 'word': '출시하며'},\n",
      " {'entity': 'O', 'score': 0.999998927116394, 'word': '위생'},\n",
      " {'entity': 'O', 'score': 0.9999986886978149, 'word': '용품'},\n",
      " {'entity': 'O', 'score': 0.9999985694885254, 'word': '기업으로'},\n",
      " {'entity': 'O', 'score': 0.9999988079071045, 'word': '입지를'},\n",
      " {'entity': 'O', 'score': 0.9999989867210388, 'word': '강화하고'},\n",
      " {'entity': 'O', 'score': 0.9999988079071045, 'word': '있다.'}]\n",
      "\n",
      "\n"
     ]
    }
   ],
   "source": [
    "for query in queries: \n",
    "    pprint(ner(query))\n",
    "    print('\\n')"
   ]
  },
  {
   "cell_type": "code",
   "execution_count": null,
   "id": "42455a48-1d03-4453-8db7-479c0b3a0a1b",
   "metadata": {},
   "outputs": [],
   "source": [
    "pprint(ner('서울시가 15조원을 투입해 \"아이 키우기 좋은 서울\"을 만들겠다는 구상을 밝히면서 모나리자에 반사이익 기대감이 반영되고 있다.'))"
   ]
  },
  {
   "cell_type": "code",
   "execution_count": null,
   "id": "58807bd2-d3fa-4402-ab10-d97314cab220",
   "metadata": {},
   "outputs": [],
   "source": [
    "pprint(ner('미세먼지 테마주에 이어 코로나19 사태 때 마스크 대장주였던 모나리자 주가가 3분의 1 수준에서 머무르고 있다.'))"
   ]
  },
  {
   "cell_type": "code",
   "execution_count": null,
   "id": "e294e647-c900-4e1f-a6cf-4e0e5c04f736",
   "metadata": {},
   "outputs": [],
   "source": [
    "pprint(ner('한편, 모나리자는 MSS 홀딩스(대표 정회훈)를 지주회사로 두고 있는 생활위생 전문 그룹인 MSS 그룹산하의 회사로, 각종 티슈 제품과 물티슈, 마스크, 유아용 및 성인용 기저귀 등 다양한 위생 용품을 출시하며 위생 용품 기업으로 입지를 강화하고 있다.'))"
   ]
  }
 ],
 "metadata": {
  "kernelspec": {
   "display_name": "Python 3 (ipykernel)",
   "language": "python",
   "name": "python3"
  },
  "language_info": {
   "codemirror_mode": {
    "name": "ipython",
    "version": 3
   },
   "file_extension": ".py",
   "mimetype": "text/x-python",
   "name": "python",
   "nbconvert_exporter": "python",
   "pygments_lexer": "ipython3",
   "version": "3.7.13"
  }
 },
 "nbformat": 4,
 "nbformat_minor": 5
}
