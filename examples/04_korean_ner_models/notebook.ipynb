{
 "cells": [
  {
   "cell_type": "code",
   "execution_count": null,
   "id": "d65b6195-f7a8-4396-a087-0c8768f89c6e",
   "metadata": {},
   "outputs": [],
   "source": [
    "!git clone https://github.com/monologg/KoELECTRA-Pipeline KoelectraPipeline"
   ]
  },
  {
   "cell_type": "code",
   "execution_count": 1,
   "id": "6e62e9d5-31ea-469e-b043-85ef20fdfd24",
   "metadata": {},
   "outputs": [],
   "source": [
    "from transformers import ElectraTokenizer, ElectraForTokenClassification\n",
    "from KoelectraPipeline.ner_pipeline import NerPipeline\n",
    "from pprint import pprint"
   ]
  },
  {
   "cell_type": "code",
   "execution_count": 2,
   "id": "eaf4c779-6955-4f5f-85c3-82fe3a9f2ad9",
   "metadata": {},
   "outputs": [],
   "source": [
    "tokenizer = ElectraTokenizer.from_pretrained(\"monologg/koelectra-small-finetuned-naver-ner\")\n",
    "model = ElectraForTokenClassification.from_pretrained(\"monologg/koelectra-small-finetuned-naver-ner\")"
   ]
  },
  {
   "cell_type": "markdown",
   "id": "d48fafc9-dc48-4770-a5a7-db24be5b0176",
   "metadata": {},
   "source": [
    "- It seems it's not available in `transformers` latest version"
   ]
  },
  {
   "cell_type": "code",
   "execution_count": 3,
   "id": "a1beb7cf-ae49-4779-9038-e7ab94c67d8c",
   "metadata": {},
   "outputs": [],
   "source": [
    "ner = NerPipeline(\n",
    "    model=model,\n",
    "    tokenizer=tokenizer,\n",
    "    ignore_labels=[],\n",
    "    ignore_special_tokens=True\n",
    ")"
   ]
  },
  {
   "cell_type": "code",
   "execution_count": 4,
   "id": "196586c4-a1c4-46a2-a5ec-3db2982ce85d",
   "metadata": {},
   "outputs": [
    {
     "name": "stdout",
     "output_type": "stream",
     "text": [
      "[{'entity': 'DAT-B', 'score': 0.9996234178543091, 'word': '2009년'},\n",
      " {'entity': 'DAT-I', 'score': 0.9354143738746643, 'word': '7월'},\n",
      " {'entity': 'ORG-B', 'score': 0.9994616508483887, 'word': 'FC서울을'},\n",
      " {'entity': 'O', 'score': 0.999957799911499, 'word': '떠나'},\n",
      " {'entity': 'LOC-B', 'score': 0.9983285069465637, 'word': '잉글랜드'},\n",
      " {'entity': 'ORG-B', 'score': 0.9989873766899109, 'word': '프리미어리그'},\n",
      " {'entity': 'ORG-B', 'score': 0.9315425157546997, 'word': '볼턴'},\n",
      " {'entity': 'ORG-I', 'score': 0.9993480443954468, 'word': '원더러스로'},\n",
      " {'entity': 'O', 'score': 0.9999217987060547, 'word': '이적한'},\n",
      " {'entity': 'PER-B', 'score': 0.9994915127754211, 'word': '이청용은'},\n",
      " {'entity': 'ORG-B', 'score': 0.999463677406311, 'word': '크리스탈'},\n",
      " {'entity': 'ORG-I', 'score': 0.9991794228553772, 'word': '팰리스와'},\n",
      " {'entity': 'LOC-B', 'score': 0.9977350234985352, 'word': '독일'},\n",
      " {'entity': 'ORG-B', 'score': 0.9813933968544006, 'word': '분데스리가2'},\n",
      " {'entity': 'ORG-B', 'score': 0.873315691947937, 'word': 'VfL'},\n",
      " {'entity': 'ORG-I', 'score': 0.9937890768051147, 'word': '보훔을'},\n",
      " {'entity': 'O', 'score': 0.9999728202819824, 'word': '거쳐'},\n",
      " {'entity': 'DAT-B', 'score': 0.9963460564613342, 'word': '지난'},\n",
      " {'entity': 'DAT-I', 'score': 0.9909392595291138, 'word': '3월'},\n",
      " {'entity': 'ORG-B', 'score': 0.9995419383049011, 'word': 'K리그로'},\n",
      " {'entity': 'O', 'score': 0.9999108910560608, 'word': '컴백했다.'},\n",
      " {'entity': 'O', 'score': 0.9993030428886414, 'word': '행선지는'},\n",
      " {'entity': 'ORG-B', 'score': 0.9915705323219299, 'word': '서울이'},\n",
      " {'entity': 'O', 'score': 0.9999194741249084, 'word': '아닌'},\n",
      " {'entity': 'ORG-B', 'score': 0.9994401931762695, 'word': '울산이었다'}]\n"
     ]
    },
    {
     "name": "stderr",
     "output_type": "stream",
     "text": [
      "/opt/conda/lib/python3.7/site-packages/transformers/tokenization_utils_base.py:1324: FutureWarning: The `max_len` attribute has been deprecated and will be removed in a future version, use `model_max_length` instead.\n",
      "  FutureWarning,\n"
     ]
    }
   ],
   "source": [
    "pprint(ner(\"2009년 7월 FC서울을 떠나 잉글랜드 프리미어리그 볼턴 원더러스로 이적한 이청용은 크리스탈 팰리스와 독일 분데스리가2 VfL 보훔을 거쳐 지난 3월 K리그로 컴백했다. 행선지는 서울이 아닌 울산이었다\"))"
   ]
  },
  {
   "cell_type": "markdown",
   "id": "68f0385f-3e38-44bc-9d25-6943d0427874",
   "metadata": {},
   "source": [
    "- `transformers==3.3.1` can't find `monologg/koelectra-base-v3-naver-ner`\n",
    "\n",
    "```\n",
    "OSError: Model name 'monologg/koelectra-base-v3-naver-ner' was not found in tokenizers model name list (google/electra-small-generator, google/electra-base-generator, google/electra-large-generator, google/electra-small-discriminator, google/electra-base-discriminator, google/electra-large-discriminator). We assumed 'monologg/koelectra-base-v3-naver-ner' was a path, a model identifier, or url to a directory containing vocabulary files named ['vocab.txt'] but couldn't find such vocabulary files at this path or url.\n",
    "```"
   ]
  },
  {
   "cell_type": "markdown",
   "id": "d29b1ccf-c6df-44ea-8c4a-9368f360bf60",
   "metadata": {},
   "source": [
    "```\n",
    "$ curl -s https://packagecloud.io/install/repositories/github/git-lfs/script.deb.sh | bash\n",
    "$ apt-get install git-lfs\n",
    "```"
   ]
  },
  {
   "cell_type": "code",
   "execution_count": null,
   "id": "4c36931b-541c-4fe2-8e2c-c782c70e43d4",
   "metadata": {},
   "outputs": [],
   "source": [
    "!git clone https://huggingface.co/monologg/koelectra-base-v3-naver-ner"
   ]
  },
  {
   "cell_type": "code",
   "execution_count": 5,
   "id": "6191debd-dc53-42e5-99a5-b0dd24b80ad5",
   "metadata": {},
   "outputs": [],
   "source": [
    "tokenizer = ElectraTokenizer.from_pretrained(\"koelectra-base-v3-naver-ner\")\n",
    "model = ElectraForTokenClassification.from_pretrained(\"koelectra-base-v3-naver-ner\")"
   ]
  },
  {
   "cell_type": "code",
   "execution_count": 6,
   "id": "aaf10eeb-699c-4afc-a817-e14ef480cc1f",
   "metadata": {},
   "outputs": [],
   "source": [
    "ner = NerPipeline(\n",
    "    model=model,\n",
    "    tokenizer=tokenizer,\n",
    "    ignore_labels=[],\n",
    "    ignore_special_tokens=True\n",
    ")"
   ]
  },
  {
   "cell_type": "code",
   "execution_count": 7,
   "id": "efcc1686-3e91-4ae2-b125-89321402e197",
   "metadata": {},
   "outputs": [
    {
     "name": "stdout",
     "output_type": "stream",
     "text": [
      "[{'entity': 'DAT-B', 'score': 0.9996743202209473, 'word': '2009년'},\n",
      " {'entity': 'DAT-I', 'score': 0.9999437928199768, 'word': '7월'},\n",
      " {'entity': 'ORG-B', 'score': 0.9999828934669495, 'word': 'FC서울을'},\n",
      " {'entity': 'O', 'score': 0.9999978542327881, 'word': '떠나'},\n",
      " {'entity': 'LOC-B', 'score': 0.99980229139328, 'word': '잉글랜드'},\n",
      " {'entity': 'ORG-B', 'score': 0.9999563097953796, 'word': '프리미어리그'},\n",
      " {'entity': 'ORG-B', 'score': 0.999943196773529, 'word': '볼턴'},\n",
      " {'entity': 'ORG-I', 'score': 0.9996771812438965, 'word': '원더러스로'},\n",
      " {'entity': 'O', 'score': 0.9999976754188538, 'word': '이적한'},\n",
      " {'entity': 'PER-B', 'score': 0.9999755620956421, 'word': '이청용은'},\n",
      " {'entity': 'ORG-B', 'score': 0.9999575614929199, 'word': '크리스탈'},\n",
      " {'entity': 'ORG-I', 'score': 0.9998330473899841, 'word': '팰리스와'},\n",
      " {'entity': 'LOC-B', 'score': 0.9999109506607056, 'word': '독일'},\n",
      " {'entity': 'ORG-B', 'score': 0.9999876022338867, 'word': '분데스리가2'},\n",
      " {'entity': 'ORG-B', 'score': 0.9999392628669739, 'word': 'VfL'},\n",
      " {'entity': 'ORG-I', 'score': 0.8798583745956421, 'word': '보훔을'},\n",
      " {'entity': 'O', 'score': 0.9999967217445374, 'word': '거쳐'},\n",
      " {'entity': 'DAT-B', 'score': 0.9999814033508301, 'word': '지난'},\n",
      " {'entity': 'DAT-I', 'score': 0.9999607801437378, 'word': '3월'},\n",
      " {'entity': 'ORG-B', 'score': 0.9999819993972778, 'word': 'K리그로'},\n",
      " {'entity': 'O', 'score': 0.9999961853027344, 'word': '컴백했다.'},\n",
      " {'entity': 'O', 'score': 0.9999984502792358, 'word': '행선지는'},\n",
      " {'entity': 'LOC-B', 'score': 0.836106538772583, 'word': '서울이'},\n",
      " {'entity': 'O', 'score': 0.999998152256012, 'word': '아닌'},\n",
      " {'entity': 'ORG-B', 'score': 0.997173547744751, 'word': '울산이었다'}]\n"
     ]
    }
   ],
   "source": [
    "pprint(ner(\"2009년 7월 FC서울을 떠나 잉글랜드 프리미어리그 볼턴 원더러스로 이적한 이청용은 크리스탈 팰리스와 독일 분데스리가2 VfL 보훔을 거쳐 지난 3월 K리그로 컴백했다. 행선지는 서울이 아닌 울산이었다\"))"
   ]
  }
 ],
 "metadata": {
  "kernelspec": {
   "display_name": "Python 3 (ipykernel)",
   "language": "python",
   "name": "python3"
  },
  "language_info": {
   "codemirror_mode": {
    "name": "ipython",
    "version": 3
   },
   "file_extension": ".py",
   "mimetype": "text/x-python",
   "name": "python",
   "nbconvert_exporter": "python",
   "pygments_lexer": "ipython3",
   "version": "3.7.13"
  }
 },
 "nbformat": 4,
 "nbformat_minor": 5
}
