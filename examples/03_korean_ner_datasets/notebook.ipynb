{
 "cells": [
  {
   "cell_type": "markdown",
   "id": "e48f6ae9-c0e8-4fe5-a10f-962eaf2de627",
   "metadata": {},
   "source": [
    "# NER datasets for Korean corpus"
   ]
  },
  {
   "cell_type": "code",
   "execution_count": 1,
   "id": "099c7595-623e-41b1-b251-d8b71fed1384",
   "metadata": {},
   "outputs": [],
   "source": [
    "from Korpora import NaverChangwonNERKorpus"
   ]
  },
  {
   "cell_type": "markdown",
   "id": "e47f400e-4460-4afb-a776-e3cbcfbf3df5",
   "metadata": {},
   "source": [
    "## NAVER x Changwon NER"
   ]
  },
  {
   "cell_type": "markdown",
   "id": "cb137856-4d4c-40a4-803d-6adf820d5962",
   "metadata": {},
   "source": [
    "### Loading the dataset"
   ]
  },
  {
   "cell_type": "code",
   "execution_count": 2,
   "id": "4584a072-3db1-4d15-95c3-ff7df2207cdc",
   "metadata": {},
   "outputs": [
    {
     "name": "stdout",
     "output_type": "stream",
     "text": [
      "\n",
      "    Korpora 는 다른 분들이 연구 목적으로 공유해주신 말뭉치들을\n",
      "    손쉽게 다운로드, 사용할 수 있는 기능만을 제공합니다.\n",
      "\n",
      "    말뭉치들을 공유해 주신 분들에게 감사드리며, 각 말뭉치 별 설명과 라이센스를 공유 드립니다.\n",
      "    해당 말뭉치에 대해 자세히 알고 싶으신 분은 아래의 description 을 참고,\n",
      "    해당 말뭉치를 연구/상용의 목적으로 이용하실 때에는 아래의 라이센스를 참고해 주시기 바랍니다.\n",
      "\n",
      "    # Description\n",
      "    Author : 네이버 + 창원대\n",
      "    Repository : https://github.com/naver/nlp-challenge/tree/master/missions/ner\n",
      "    References : http://air.changwon.ac.kr/?page_id=10\n",
      "\n",
      "    개체명(Named Entity)은 인명, 기관명, 지명 등과 같이 문장 또는 문서에서 특정한 의미를 가지고 있는 단어 또는 어구를 말합니다.\n",
      "    이 때문에 개체명은 정보 검색 및 언어 이해를 위한 분석에서 주요한 대상으로 다루어지고 있습니다.\n",
      "    Data.ly에서는 개체명 코퍼스를 제공하여 연구에 도움을 드리고자 하며, 공개적인 리더보드를 통해 많은 분들의 연구 동향을 논의/공유하고자 합니다.\n",
      "    제공되는 코퍼스는 Data.ly에서 제작한 것으로, 연구 및 리더보드를 위한 학습으로 사용 가능하며 상업적인 목적으로 사용될 수 없습니다.\n",
      "\n",
      "    # License\n",
      "    연구 및 리더보드를 위한 학습으로 사용 가능하며 상업적인 목적으로 사용될 수 없습니다.\n",
      "\n",
      "[Korpora] Corpus `naver_changwon_ner` is already installed at /root/Korpora/naver_changwon_ner/train_data\n"
     ]
    }
   ],
   "source": [
    "corpus = NaverChangwonNERKorpus()"
   ]
  },
  {
   "cell_type": "markdown",
   "id": "463eaca1-d14d-4aa0-bb67-34dd871dde11",
   "metadata": {},
   "source": [
    "### Showing single training instance"
   ]
  },
  {
   "cell_type": "code",
   "execution_count": 3,
   "id": "457c7989-08b4-4dd7-92fe-3fb38693a18e",
   "metadata": {},
   "outputs": [
    {
     "data": {
      "text/plain": [
       "WordTag(text='비토리오 양일 만에 영사관 감호 용퇴, 항룡 압력설 의심만 가율 ', words=['비토리오', '양일', '만에', '영사관', '감호', '용퇴,', '항룡', '압력설', '의심만', '가율'], tags=['PER_B', 'DAT_B', '-', 'ORG_B', 'CVL_B', '-', '-', '-', '-', '-'])"
      ]
     },
     "execution_count": 3,
     "metadata": {},
     "output_type": "execute_result"
    }
   ],
   "source": [
    "corpus.train[0]"
   ]
  },
  {
   "cell_type": "code",
   "execution_count": 4,
   "id": "c2f5654a-8ca6-45e7-9fca-9b0677fe87bb",
   "metadata": {},
   "outputs": [
    {
     "data": {
      "text/plain": [
       "'비토리오 양일 만에 영사관 감호 용퇴, 항룡 압력설 의심만 가율 '"
      ]
     },
     "execution_count": 4,
     "metadata": {},
     "output_type": "execute_result"
    }
   ],
   "source": [
    "corpus.train[0].text"
   ]
  },
  {
   "cell_type": "code",
   "execution_count": 5,
   "id": "bf1c5a30-7657-4d60-933a-49f27c1c6138",
   "metadata": {},
   "outputs": [
    {
     "data": {
      "text/plain": [
       "['비토리오', '양일', '만에', '영사관', '감호', '용퇴,', '항룡', '압력설', '의심만', '가율']"
      ]
     },
     "execution_count": 5,
     "metadata": {},
     "output_type": "execute_result"
    }
   ],
   "source": [
    "corpus.train[0].words"
   ]
  },
  {
   "cell_type": "code",
   "execution_count": 6,
   "id": "56ea51aa-bf52-47ed-9902-a8a5bd3e966f",
   "metadata": {},
   "outputs": [
    {
     "data": {
      "text/plain": [
       "['PER_B', 'DAT_B', '-', 'ORG_B', 'CVL_B', '-', '-', '-', '-', '-']"
      ]
     },
     "execution_count": 6,
     "metadata": {},
     "output_type": "execute_result"
    }
   ],
   "source": [
    "corpus.train[0].tags"
   ]
  },
  {
   "cell_type": "markdown",
   "id": "1000cf55-41ab-44a7-8d0a-13ece85a07f6",
   "metadata": {},
   "source": [
    "### Showing the whole training instances"
   ]
  },
  {
   "cell_type": "code",
   "execution_count": 7,
   "id": "8e41274a-5101-46f3-84fe-b6e986aa23ed",
   "metadata": {},
   "outputs": [
    {
     "data": {
      "text/plain": [
       "['비토리오 양일 만에 영사관 감호 용퇴, 항룡 압력설 의심만 가율 ',\n",
       " '이 음경동맥의 직경이 8 19mm입니다 . ',\n",
       " '9세이브로 구완 30위인 LG 박찬형은 평균자책점이 16.45로 준수한 편이지만 22⅓이닝 동안 피홈런이 31개나 된다 . ']"
      ]
     },
     "execution_count": 7,
     "metadata": {},
     "output_type": "execute_result"
    }
   ],
   "source": [
    "corpus.get_all_texts()[:3]"
   ]
  },
  {
   "cell_type": "code",
   "execution_count": 8,
   "id": "ec283ddc-77c7-4029-9caf-e3e0326f95e9",
   "metadata": {},
   "outputs": [
    {
     "data": {
      "text/plain": [
       "[['비토리오', '양일', '만에', '영사관', '감호', '용퇴,', '항룡', '압력설', '의심만', '가율'],\n",
       " ['이', '음경동맥의', '직경이', '8', '19mm입니다', '.'],\n",
       " ['9세이브로',\n",
       "  '구완',\n",
       "  '30위인',\n",
       "  'LG',\n",
       "  '박찬형은',\n",
       "  '평균자책점이',\n",
       "  '16.45로',\n",
       "  '준수한',\n",
       "  '편이지만',\n",
       "  '22⅓이닝',\n",
       "  '동안',\n",
       "  '피홈런이',\n",
       "  '31개나',\n",
       "  '된다',\n",
       "  '.']]"
      ]
     },
     "execution_count": 8,
     "metadata": {},
     "output_type": "execute_result"
    }
   ],
   "source": [
    "corpus.get_all_words()[:3]"
   ]
  },
  {
   "cell_type": "code",
   "execution_count": 9,
   "id": "b526a47d-c6d6-46dc-a45c-e460a274ad4a",
   "metadata": {},
   "outputs": [
    {
     "data": {
      "text/plain": [
       "[['PER_B', 'DAT_B', '-', 'ORG_B', 'CVL_B', '-', '-', '-', '-', '-'],\n",
       " ['-', '-', '-', 'NUM_B', 'NUM_B', '-'],\n",
       " ['NUM_B',\n",
       "  '-',\n",
       "  'NUM_B',\n",
       "  'ORG_B',\n",
       "  'PER_B',\n",
       "  '-',\n",
       "  'NUM_B',\n",
       "  '-',\n",
       "  '-',\n",
       "  'NUM_B',\n",
       "  '-',\n",
       "  '-',\n",
       "  'NUM_B',\n",
       "  '-',\n",
       "  '-']]"
      ]
     },
     "execution_count": 9,
     "metadata": {},
     "output_type": "execute_result"
    }
   ],
   "source": [
    "corpus.get_all_tags()[:3]"
   ]
  }
 ],
 "metadata": {
  "kernelspec": {
   "display_name": "Python 3 (ipykernel)",
   "language": "python",
   "name": "python3"
  },
  "language_info": {
   "codemirror_mode": {
    "name": "ipython",
    "version": 3
   },
   "file_extension": ".py",
   "mimetype": "text/x-python",
   "name": "python",
   "nbconvert_exporter": "python",
   "pygments_lexer": "ipython3",
   "version": "3.7.13"
  }
 },
 "nbformat": 4,
 "nbformat_minor": 5
}
