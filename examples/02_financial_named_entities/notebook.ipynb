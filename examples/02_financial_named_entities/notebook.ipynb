{
 "cells": [
  {
   "cell_type": "code",
   "execution_count": 1,
   "id": "991cc00c-590c-4664-a829-3da79b080978",
   "metadata": {},
   "outputs": [
    {
     "name": "stdout",
     "output_type": "stream",
     "text": [
      "INFO: Pandarallel will run on 32 workers.\n",
      "INFO: Pandarallel will use Memory file system to transfer data between the main process and workers.\n"
     ]
    }
   ],
   "source": [
    "import requests\n",
    "import tarfile\n",
    "import os\n",
    "import math\n",
    "import pandas as pd\n",
    "from pandarallel import pandarallel\n",
    "import dart_fss as dart\n",
    "from tqdm import tqdm\n",
    "import matplotlib.pyplot as plt\n",
    "from IPython.display import display\n",
    "pandarallel.initialize(progress_bar=True, use_memory_fs=True)"
   ]
  },
  {
   "cell_type": "code",
   "execution_count": 2,
   "id": "7e4c943c-fadb-4e18-b0c7-c264b8f4fd53",
   "metadata": {},
   "outputs": [],
   "source": [
    "with open('../../src/opendart_api_key.txt', 'r') as f: dart_api_key = f.read()"
   ]
  },
  {
   "cell_type": "code",
   "execution_count": 3,
   "id": "81f6b997-7e1c-47be-9a22-e08ff57a4b81",
   "metadata": {},
   "outputs": [],
   "source": [
    "def load_korean_companies(dart_api_key):\n",
    "    dart.set_api_key(api_key=dart_api_key)\n",
    "    result = dart.get_corp_list()\n",
    "    return result"
   ]
  },
  {
   "cell_type": "code",
   "execution_count": 4,
   "id": "566f4d48-aee5-455b-aec1-a3608c02e8f5",
   "metadata": {},
   "outputs": [
    {
     "data": {
      "application/vnd.jupyter.widget-view+json": {
       "model_id": "08a1b7968f18449e9ce888d124826f3e",
       "version_major": 2,
       "version_minor": 0
      },
      "text/plain": [
       "Output()"
      ]
     },
     "metadata": {},
     "output_type": "display_data"
    },
    {
     "data": {
      "application/vnd.jupyter.widget-view+json": {
       "model_id": "1578e5d2630a40cd9f7cc8216ed0c0d7",
       "version_major": 2,
       "version_minor": 0
      },
      "text/plain": [
       "Output()"
      ]
     },
     "metadata": {},
     "output_type": "display_data"
    }
   ],
   "source": [
    "korean_companies = load_korean_companies(dart_api_key)"
   ]
  },
  {
   "cell_type": "code",
   "execution_count": 5,
   "id": "7f95d9d5-459e-40f1-812f-2616e09a42f6",
   "metadata": {},
   "outputs": [
    {
     "data": {
      "text/plain": [
       "Number of companies: 97036"
      ]
     },
     "execution_count": 5,
     "metadata": {},
     "output_type": "execute_result"
    }
   ],
   "source": [
    "korean_companies"
   ]
  },
  {
   "cell_type": "code",
   "execution_count": 6,
   "id": "17a7e86b-dd11-4cc4-baf4-6b60f1c2f484",
   "metadata": {},
   "outputs": [
    {
     "data": {
      "text/html": [
       "\n",
       "    <style scoped>\n",
       "        .dart-table tbody tr th {\n",
       "            vertical-align: top;\n",
       "            text-overflow: ellipsis;\n",
       "        }\n",
       "        .dart-table thead th {\n",
       "            text-align: right;\n",
       "            text-overflow: ellipsis;\n",
       "        }\n",
       "    </style>\n",
       "    <table border=\"1\" class=\"dart-table\"><thead><tr style=\"text-align: right;\"><th>Label</th><th>Data</th></tr></thead><tbody><tr><th>corp_code</th><td>00343163</td></tr><tr><th>corp_name</th><td>한라스페코중공업</td></tr><tr><th>stock_code</th><td>None</td></tr><tr><th>modify_date</th><td>20170630</td></tr></tbody></table>"
      ],
      "text/plain": [
       "[00343163]한라스페코중공업"
      ]
     },
     "execution_count": 6,
     "metadata": {},
     "output_type": "execute_result"
    }
   ],
   "source": [
    "korean_companies[100]"
   ]
  },
  {
   "cell_type": "code",
   "execution_count": 7,
   "id": "bb692974-7afa-43ae-8b63-6a99d8a79708",
   "metadata": {},
   "outputs": [
    {
     "name": "stderr",
     "output_type": "stream",
     "text": [
      "100%|██████████| 97036/97036 [00:00<00:00, 203097.21it/s]\n"
     ]
    }
   ],
   "source": [
    "korean_companies = [(company.corp_code, company.corp_name, company.stock_code, company.modify_date) for company in tqdm(korean_companies)]\n",
    "korean_companies = pd.DataFrame(\n",
    "    korean_companies, \n",
    "    columns = [\n",
    "        'corp_code', \n",
    "        'corp_name', \n",
    "        'stock_code', \n",
    "        'modify_date', \n",
    "    ]\n",
    ")"
   ]
  },
  {
   "cell_type": "code",
   "execution_count": 8,
   "id": "692c5162-e886-4629-af3d-0cf64ef45f66",
   "metadata": {},
   "outputs": [
    {
     "data": {
      "text/html": [
       "<div>\n",
       "<style scoped>\n",
       "    .dataframe tbody tr th:only-of-type {\n",
       "        vertical-align: middle;\n",
       "    }\n",
       "\n",
       "    .dataframe tbody tr th {\n",
       "        vertical-align: top;\n",
       "    }\n",
       "\n",
       "    .dataframe thead th {\n",
       "        text-align: right;\n",
       "    }\n",
       "</style>\n",
       "<table border=\"1\" class=\"dataframe\">\n",
       "  <thead>\n",
       "    <tr style=\"text-align: right;\">\n",
       "      <th></th>\n",
       "      <th>corp_code</th>\n",
       "      <th>corp_name</th>\n",
       "      <th>stock_code</th>\n",
       "      <th>modify_date</th>\n",
       "    </tr>\n",
       "  </thead>\n",
       "  <tbody>\n",
       "    <tr>\n",
       "      <th>0</th>\n",
       "      <td>00434003</td>\n",
       "      <td>다코</td>\n",
       "      <td>None</td>\n",
       "      <td>20170630</td>\n",
       "    </tr>\n",
       "    <tr>\n",
       "      <th>1</th>\n",
       "      <td>00434456</td>\n",
       "      <td>일산약품</td>\n",
       "      <td>None</td>\n",
       "      <td>20170630</td>\n",
       "    </tr>\n",
       "    <tr>\n",
       "      <th>2</th>\n",
       "      <td>00430964</td>\n",
       "      <td>굿앤엘에스</td>\n",
       "      <td>None</td>\n",
       "      <td>20170630</td>\n",
       "    </tr>\n",
       "    <tr>\n",
       "      <th>3</th>\n",
       "      <td>00432403</td>\n",
       "      <td>한라판지</td>\n",
       "      <td>None</td>\n",
       "      <td>20170630</td>\n",
       "    </tr>\n",
       "    <tr>\n",
       "      <th>4</th>\n",
       "      <td>00388953</td>\n",
       "      <td>크레디피아제이십오차유동화전문회사</td>\n",
       "      <td>None</td>\n",
       "      <td>20170630</td>\n",
       "    </tr>\n",
       "    <tr>\n",
       "      <th>...</th>\n",
       "      <td>...</td>\n",
       "      <td>...</td>\n",
       "      <td>...</td>\n",
       "      <td>...</td>\n",
       "    </tr>\n",
       "    <tr>\n",
       "      <th>97031</th>\n",
       "      <td>00151571</td>\n",
       "      <td>청림실업</td>\n",
       "      <td>None</td>\n",
       "      <td>20221114</td>\n",
       "    </tr>\n",
       "    <tr>\n",
       "      <th>97032</th>\n",
       "      <td>01143889</td>\n",
       "      <td>에이치엠지하우징</td>\n",
       "      <td>None</td>\n",
       "      <td>20221114</td>\n",
       "    </tr>\n",
       "    <tr>\n",
       "      <th>97033</th>\n",
       "      <td>01359578</td>\n",
       "      <td>성남대장피에프브이</td>\n",
       "      <td>None</td>\n",
       "      <td>20221114</td>\n",
       "    </tr>\n",
       "    <tr>\n",
       "      <th>97034</th>\n",
       "      <td>01002944</td>\n",
       "      <td>스마트에프앤디</td>\n",
       "      <td>None</td>\n",
       "      <td>20221114</td>\n",
       "    </tr>\n",
       "    <tr>\n",
       "      <th>97035</th>\n",
       "      <td>01143737</td>\n",
       "      <td>에이치엠지글로벌</td>\n",
       "      <td>None</td>\n",
       "      <td>20221114</td>\n",
       "    </tr>\n",
       "  </tbody>\n",
       "</table>\n",
       "<p>97036 rows × 4 columns</p>\n",
       "</div>"
      ],
      "text/plain": [
       "      corp_code          corp_name stock_code modify_date\n",
       "0      00434003                 다코       None    20170630\n",
       "1      00434456               일산약품       None    20170630\n",
       "2      00430964              굿앤엘에스       None    20170630\n",
       "3      00432403               한라판지       None    20170630\n",
       "4      00388953  크레디피아제이십오차유동화전문회사       None    20170630\n",
       "...         ...                ...        ...         ...\n",
       "97031  00151571               청림실업       None    20221114\n",
       "97032  01143889           에이치엠지하우징       None    20221114\n",
       "97033  01359578          성남대장피에프브이       None    20221114\n",
       "97034  01002944            스마트에프앤디       None    20221114\n",
       "97035  01143737           에이치엠지글로벌       None    20221114\n",
       "\n",
       "[97036 rows x 4 columns]"
      ]
     },
     "execution_count": 8,
     "metadata": {},
     "output_type": "execute_result"
    }
   ],
   "source": [
    "korean_companies"
   ]
  },
  {
   "cell_type": "code",
   "execution_count": 9,
   "id": "abf30691-3377-4c25-a298-2f91178acb68",
   "metadata": {},
   "outputs": [],
   "source": [
    "korean_companies.to_csv('korean_companies.csv', index=False)"
   ]
  }
 ],
 "metadata": {
  "kernelspec": {
   "display_name": "Python 3 (ipykernel)",
   "language": "python",
   "name": "python3"
  },
  "language_info": {
   "codemirror_mode": {
    "name": "ipython",
    "version": 3
   },
   "file_extension": ".py",
   "mimetype": "text/x-python",
   "name": "python",
   "nbconvert_exporter": "python",
   "pygments_lexer": "ipython3",
   "version": "3.7.13"
  }
 },
 "nbformat": 4,
 "nbformat_minor": 5
}
