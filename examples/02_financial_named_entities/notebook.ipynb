{
 "cells": [
  {
   "cell_type": "code",
   "execution_count": null,
   "id": "991cc00c-590c-4664-a829-3da79b080978",
   "metadata": {},
   "outputs": [],
   "source": [
    "import requests\n",
    "import tarfile\n",
    "import os\n",
    "import math\n",
    "import pandas as pd\n",
    "from pandarallel import pandarallel\n",
    "import dart_fss as dart\n",
    "from tqdm import tqdm\n",
    "import matplotlib.pyplot as plt\n",
    "from IPython.display import display\n",
    "pandarallel.initialize(progress_bar=True, use_memory_fs=True)"
   ]
  },
  {
   "cell_type": "code",
   "execution_count": null,
   "id": "7e4c943c-fadb-4e18-b0c7-c264b8f4fd53",
   "metadata": {},
   "outputs": [],
   "source": [
    "with open('../../src/opendart_api_key.txt', 'r') as f: dart_api_key = f.read()"
   ]
  },
  {
   "cell_type": "code",
   "execution_count": null,
   "id": "81f6b997-7e1c-47be-9a22-e08ff57a4b81",
   "metadata": {},
   "outputs": [],
   "source": [
    "def load_korean_companies(dart_api_key):\n",
    "    dart.set_api_key(api_key=dart_api_key)\n",
    "    result = dart.get_corp_list()\n",
    "    return result"
   ]
  },
  {
   "cell_type": "code",
   "execution_count": null,
   "id": "566f4d48-aee5-455b-aec1-a3608c02e8f5",
   "metadata": {},
   "outputs": [],
   "source": [
    "korean_companies = load_korean_companies(dart_api_key)"
   ]
  },
  {
   "cell_type": "code",
   "execution_count": null,
   "id": "7f95d9d5-459e-40f1-812f-2616e09a42f6",
   "metadata": {},
   "outputs": [],
   "source": [
    "korean_companies"
   ]
  },
  {
   "cell_type": "code",
   "execution_count": null,
   "id": "5586d9a5-ff35-4363-a980-9cb2a90ffecf",
   "metadata": {},
   "outputs": [],
   "source": [
    "korean_company_names = pd.Series([company.corp_name for company in tqdm(korean_companies)])"
   ]
  },
  {
   "cell_type": "code",
   "execution_count": null,
   "id": "692c5162-e886-4629-af3d-0cf64ef45f66",
   "metadata": {},
   "outputs": [],
   "source": [
    "korean_company_names"
   ]
  },
  {
   "cell_type": "code",
   "execution_count": null,
   "id": "10c93664-9fff-498e-9afd-93ab8a0c805f",
   "metadata": {},
   "outputs": [],
   "source": []
  }
 ],
 "metadata": {
  "kernelspec": {
   "display_name": "Python 3 (ipykernel)",
   "language": "python",
   "name": "python3"
  },
  "language_info": {
   "codemirror_mode": {
    "name": "ipython",
    "version": 3
   },
   "file_extension": ".py",
   "mimetype": "text/x-python",
   "name": "python",
   "nbconvert_exporter": "python",
   "pygments_lexer": "ipython3",
   "version": "3.7.13"
  }
 },
 "nbformat": 4,
 "nbformat_minor": 5
}
